{
 "cells": [
  {
   "cell_type": "markdown",
   "metadata": {},
   "source": [
    "# Introduction\n",
    "Given a discrete time affine system:\n",
    "$$x^+ = Ax + Bu + c + w$$\n",
    "where:\n",
    "* $x$ is state, wished to be restricted to a safe polyhedron $$\\mathbb{X}=\\{x \\in \\mathbb{R}^n| H_x x \\le h\\}$$,\n",
    "* $u$ is control, with admissible set being a polyhedron $$\\mathbb{U}=\\{u \\in \\mathbb{R}^m| H_u u \\le h_u\\}$$,\n",
    "* $w$ is additive disturbance belonging to a polytope $$\\mathbb{W}=\\{w \\in \\mathbb{R}^n| H_w w \\le h_w\\}$$.\n",
    "\n",
    "The tool computes a robust control invariant set in $\\mathbb{X}$. "
   ]
  },
  {
   "cell_type": "markdown",
   "metadata": {},
   "source": [
    "## Example:\n",
    "We want to compute the RCI set for the following system with 2 states and 1 input:\n",
    "$$A=\\left( \\begin{array}{cc} 1 & 1 \\\\ 0 & 1 \\end{array} \\right), B=\\left( \\begin{array}{c} 0 \\\\ 1 \\end{array} \\right), c=\\left( \\begin{array}{c} 0 \\\\ 0 \\end{array} \\right), \\mathbb{W}= \\left( \\begin{array}{cc} \\frac{2}{10} & 0 \\\\ 0 & \\frac{2}{10} \\end{array} \\right) [-1,1]^2$$\n",
    "We have $\\mathbb{X}=[-1,1]^2$ and $\\mathbb{U}=[-1,1]$. "
   ]
  },
  {
   "cell_type": "code",
   "execution_count": 1,
   "metadata": {},
   "outputs": [
    {
     "name": "stdout",
     "output_type": "stream",
     "text": [
      "Optimize a model with 60 rows, 93 columns and 226 nonzeros\n",
      "Coefficient statistics:\n",
      "  Matrix range     [1e+00, 1e+00]\n",
      "  Objective range  [0e+00, 0e+00]\n",
      "  Bounds range     [0e+00, 0e+00]\n",
      "  RHS range        [2e-01, 1e+00]\n",
      "Presolve removed 32 rows and 44 columns\n",
      "Presolve time: 0.01s\n",
      "Presolved: 28 rows, 49 columns, 140 nonzeros\n",
      "\n",
      "Iteration    Objective       Primal Inf.    Dual Inf.      Time\n",
      "       0      handle free variables                          0s\n",
      "      16    0.0000000e+00   0.000000e+00   0.000000e+00      0s\n",
      "\n",
      "Solved in 16 iterations and 0.02 seconds\n",
      "Optimal objective  0.000000000e+00\n"
     ]
    }
   ],
   "source": [
    "from ana_PARCIS import system,convexhull_RCI,np,visualize_RCI\n",
    "\n",
    "s=system(2,1)\n",
    "\n",
    "s.A=np.array([[1,1],[0,1]])\n",
    "s.B=np.array([[0,1]]).T\n",
    "s.c=np.array([[0,0]]).T\n",
    "\n",
    "s.H=np.array([[1,0],[0,1],[-1,0],[0,-1]])\n",
    "s.h=np.array([[1,1,1,1]]).T\n",
    "\n",
    "s.F=np.array([[1,-1]]).T\n",
    "s.f=np.array([[1,1]]).T\n",
    "\n",
    "s.W=np.array([[2,0],[0,3]])*(1/10)\n",
    "s.RCI()"
   ]
  },
  {
   "cell_type": "markdown",
   "metadata": {
    "collapsed": true
   },
   "source": [
    "### Visualization \n",
    "For systems with 2D state-space, the following command plots the RCI set."
   ]
  },
  {
   "cell_type": "code",
   "execution_count": 2,
   "metadata": {},
   "outputs": [
    {
     "data": {
      "image/png": "[encoded data removed]",
      "text/plain": [
       "<Figure size 432x288 with 1 Axes>"
      ]
     },
     "metadata": {},
     "output_type": "display_data"
    },
    {
     "data": {
      "text/plain": [
       "<Figure size 720x720 with 0 Axes>"
      ]
     },
     "metadata": {},
     "output_type": "display_data"
    }
   ],
   "source": [
    "visualize_RCI(s)"
   ]
  }
 ],
 "metadata": {
  "kernelspec": {
   "display_name": "Python 3",
   "language": "python",
   "name": "python3"
  },
  "language_info": {
   "codemirror_mode": {
    "name": "ipython",
    "version": 3
   },
   "file_extension": ".py",
   "mimetype": "text/x-python",
   "name": "python",
   "nbconvert_exporter": "python",
   "pygments_lexer": "ipython3",
   "version": "3.6.3"
  }
 },
 "nbformat": 4,
 "nbformat_minor": 2
}
